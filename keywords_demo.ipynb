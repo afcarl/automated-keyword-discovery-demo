{
 "cells": [
  {
   "cell_type": "markdown",
   "metadata": {
    "deletable": true,
    "editable": true
   },
   "source": [
    "## Demo of King, Lam, and Roberts algorithm for finding sets of keywords.\n",
    "\n",
    "You can read the [paper](https://gking.harvard.edu/files/gking/files/ajps12291_final.pdf) and download their [code and replication data](https://dataverse.harvard.edu/dataset.xhtml?persistentId=doi:10.7910/DVN/FMJDCD).\n",
    "\n",
    "The code is stored in `keywords.py`. Some minor modifications have been made due to some out-of-date code.\n"
   ]
  },
  {
   "cell_type": "code",
   "execution_count": 2,
   "metadata": {
    "collapsed": false,
    "deletable": true,
    "editable": true
   },
   "outputs": [],
   "source": [
    "# Load in a list of tweets from the API (not provided here)\n",
    "len(tweets)"
   ]
  },
  {
   "cell_type": "markdown",
   "metadata": {
    "deletable": true,
    "editable": true
   },
   "source": [
    "### Extract the texts from the tweets, we can ignore the rest here"
   ]
  },
  {
   "cell_type": "code",
   "execution_count": 145,
   "metadata": {
    "collapsed": true,
    "deletable": true,
    "editable": true
   },
   "outputs": [],
   "source": [
    "texts = [x.text for x in tweets]"
   ]
  },
  {
   "cell_type": "code",
   "execution_count": 146,
   "metadata": {
    "collapsed": false,
    "deletable": true,
    "editable": true
   },
   "outputs": [
    {
     "data": {
      "text/plain": [
       "106660"
      ]
     },
     "execution_count": 146,
     "metadata": {},
     "output_type": "execute_result"
    }
   ],
   "source": [
    "len(texts)"
   ]
  },
  {
   "cell_type": "markdown",
   "metadata": {
    "deletable": true,
    "editable": true
   },
   "source": [
    "## Defining the reference set $R$ and the search set $S$"
   ]
  },
  {
   "cell_type": "markdown",
   "metadata": {
    "deletable": true,
    "editable": true
   },
   "source": [
    "## Specifying initial query, $Q_R$\n",
    "\n",
    "I am using the keyword \"AHCA\", case insensitive and potentially with hashtags."
   ]
  },
  {
   "cell_type": "code",
   "execution_count": 147,
   "metadata": {
    "collapsed": true,
    "deletable": true,
    "editable": true
   },
   "outputs": [],
   "source": [
    "import re\n",
    "Q_r=re.compile(r\"(#?)AHCA\", re.IGNORECASE)"
   ]
  },
  {
   "cell_type": "code",
   "execution_count": 148,
   "metadata": {
    "collapsed": true,
    "deletable": true,
    "editable": true
   },
   "outputs": [],
   "source": [
    "R = [x for x in texts if Q_r.search(x) is not None]"
   ]
  },
  {
   "cell_type": "code",
   "execution_count": 149,
   "metadata": {
    "collapsed": true,
    "deletable": true,
    "editable": true
   },
   "outputs": [],
   "source": [
    "S = [x for x in texts if x not in R]"
   ]
  },
  {
   "cell_type": "code",
   "execution_count": 150,
   "metadata": {
    "collapsed": false,
    "deletable": true,
    "editable": true
   },
   "outputs": [
    {
     "name": "stdout",
     "output_type": "stream",
     "text": [
      "480\n",
      "106180\n"
     ]
    }
   ],
   "source": [
    "print(len(R))\n",
    "print(len(S))"
   ]
  },
  {
   "cell_type": "markdown",
   "metadata": {
    "deletable": true,
    "editable": true
   },
   "source": [
    "## Now we can specify a model to find new keywords"
   ]
  },
  {
   "cell_type": "code",
   "execution_count": 151,
   "metadata": {
    "collapsed": true,
    "deletable": true,
    "editable": true
   },
   "outputs": [],
   "source": [
    "import keywords"
   ]
  },
  {
   "cell_type": "markdown",
   "metadata": {
    "deletable": true,
    "editable": true
   },
   "source": [
    "Existing codebase reads in the data from CSV so easiest to dump our data into a CSV and then read it back in (rather than modify the code)."
   ]
  },
  {
   "cell_type": "code",
   "execution_count": 159,
   "metadata": {
    "collapsed": true,
    "deletable": true,
    "editable": true
   },
   "outputs": [],
   "source": [
    "R_=pd.DataFrame(R)\n",
    "R_.columns=['text'] \n",
    "R_['id']=list(R_.index.asi8)\n",
    "S_=pd.DataFrame(S)\n",
    "S_.columns=['text']\n",
    "S_['id']=list(S_.index.asi8)\n",
    "R_.to_csv('R.csv')\n",
    "S_ = S_.sample(10000)\n",
    "S_.to_csv('S.csv')"
   ]
  },
  {
   "cell_type": "code",
   "execution_count": 160,
   "metadata": {
    "collapsed": false,
    "deletable": true,
    "editable": true
   },
   "outputs": [
    {
     "data": {
      "text/html": [
       "<div>\n",
       "<style>\n",
       "    .dataframe thead tr:only-child th {\n",
       "        text-align: right;\n",
       "    }\n",
       "\n",
       "    .dataframe thead th {\n",
       "        text-align: left;\n",
       "    }\n",
       "\n",
       "    .dataframe tbody tr th {\n",
       "        vertical-align: top;\n",
       "    }\n",
       "</style>\n",
       "<table border=\"1\" class=\"dataframe\">\n",
       "  <thead>\n",
       "    <tr style=\"text-align: right;\">\n",
       "      <th></th>\n",
       "      <th>text</th>\n",
       "      <th>id</th>\n",
       "    </tr>\n",
       "  </thead>\n",
       "  <tbody>\n",
       "    <tr>\n",
       "      <th>0</th>\n",
       "      <td>Opinion | Trump predictably abandons the AHCA ...</td>\n",
       "      <td>0</td>\n",
       "    </tr>\n",
       "    <tr>\n",
       "      <th>1</th>\n",
       "      <td>This is a LOL cartoon about #SteveScalise, #AH...</td>\n",
       "      <td>1</td>\n",
       "    </tr>\n",
       "    <tr>\n",
       "      <th>2</th>\n",
       "      <td>Demand from your Senators a Public Hearing on ...</td>\n",
       "      <td>2</td>\n",
       "    </tr>\n",
       "    <tr>\n",
       "      <th>3</th>\n",
       "      <td>you can disagree all you want about the charac...</td>\n",
       "      <td>3</td>\n",
       "    </tr>\n",
       "    <tr>\n",
       "      <th>4</th>\n",
       "      <td>My three things: (a) contact senators re AHCA,...</td>\n",
       "      <td>4</td>\n",
       "    </tr>\n",
       "  </tbody>\n",
       "</table>\n",
       "</div>"
      ],
      "text/plain": [
       "                                                text  id\n",
       "0  Opinion | Trump predictably abandons the AHCA ...   0\n",
       "1  This is a LOL cartoon about #SteveScalise, #AH...   1\n",
       "2  Demand from your Senators a Public Hearing on ...   2\n",
       "3  you can disagree all you want about the charac...   3\n",
       "4  My three things: (a) contact senators re AHCA,...   4"
      ]
     },
     "execution_count": 160,
     "metadata": {},
     "output_type": "execute_result"
    }
   ],
   "source": [
    "R_.head()"
   ]
  },
  {
   "cell_type": "code",
   "execution_count": 161,
   "metadata": {
    "collapsed": false,
    "deletable": true,
    "editable": true
   },
   "outputs": [
    {
     "data": {
      "text/html": [
       "<div>\n",
       "<style>\n",
       "    .dataframe thead tr:only-child th {\n",
       "        text-align: right;\n",
       "    }\n",
       "\n",
       "    .dataframe thead th {\n",
       "        text-align: left;\n",
       "    }\n",
       "\n",
       "    .dataframe tbody tr th {\n",
       "        vertical-align: top;\n",
       "    }\n",
       "</style>\n",
       "<table border=\"1\" class=\"dataframe\">\n",
       "  <thead>\n",
       "    <tr style=\"text-align: right;\">\n",
       "      <th></th>\n",
       "      <th>text</th>\n",
       "      <th>id</th>\n",
       "    </tr>\n",
       "  </thead>\n",
       "  <tbody>\n",
       "    <tr>\n",
       "      <th>40838</th>\n",
       "      <td>USA TOADY misses another one. Must be the Russ...</td>\n",
       "      <td>40838</td>\n",
       "    </tr>\n",
       "    <tr>\n",
       "      <th>9338</th>\n",
       "      <td>What was humming @ the Great Northern? The e-l...</td>\n",
       "      <td>9338</td>\n",
       "    </tr>\n",
       "    <tr>\n",
       "      <th>10372</th>\n",
       "      <td>Nice to see #Vermont's @SeventhGen quoted in t...</td>\n",
       "      <td>10372</td>\n",
       "    </tr>\n",
       "    <tr>\n",
       "      <th>83874</th>\n",
       "      <td>Tell them you don't support their death bill. ...</td>\n",
       "      <td>83874</td>\n",
       "    </tr>\n",
       "    <tr>\n",
       "      <th>85995</th>\n",
       "      <td>I saw @samirawiley name pop up on episode 6 Se...</td>\n",
       "      <td>85995</td>\n",
       "    </tr>\n",
       "  </tbody>\n",
       "</table>\n",
       "</div>"
      ],
      "text/plain": [
       "                                                    text     id\n",
       "40838  USA TOADY misses another one. Must be the Russ...  40838\n",
       "9338   What was humming @ the Great Northern? The e-l...   9338\n",
       "10372  Nice to see #Vermont's @SeventhGen quoted in t...  10372\n",
       "83874  Tell them you don't support their death bill. ...  83874\n",
       "85995  I saw @samirawiley name pop up on episode 6 Se...  85995"
      ]
     },
     "execution_count": 161,
     "metadata": {},
     "output_type": "execute_result"
    }
   ],
   "source": [
    "S_.head()"
   ]
  },
  {
   "cell_type": "code",
   "execution_count": 153,
   "metadata": {
    "collapsed": false,
    "deletable": true,
    "editable": true
   },
   "outputs": [
    {
     "data": {
      "text/plain": [
       "<module 'keywords' from '/Users/tdavidson/automated-keyword-discovery/keywords.py'>"
      ]
     },
     "execution_count": 153,
     "metadata": {},
     "output_type": "execute_result"
    }
   ],
   "source": [
    "##import importlib\n",
    "##importlib.reload(keywords)"
   ]
  },
  {
   "cell_type": "code",
   "execution_count": 162,
   "metadata": {
    "collapsed": false,
    "deletable": true,
    "editable": true
   },
   "outputs": [
    {
     "name": "stdout",
     "output_type": "stream",
     "text": [
      "Keyword object initialized.\n",
      "Loaded reference set of size 478 in 0.01 seconds.\n",
      "Loaded search set of size 9983 in 0.06 seconds.\n",
      "Time to process corpus: 2.96 seconds\n"
     ]
    }
   ],
   "source": [
    "ahca = keywords.Keywords()\n",
    "ahca.ReferenceSet(data='R.csv', text_colname='text', id_colname='id')\n",
    "ahca.SearchSet(data='S.csv', text_colname='text', id_colname='id')\n",
    "ahca.ProcessData(remove_wordlist=[], keep_twitter_symbols=True)"
   ]
  },
  {
   "cell_type": "code",
   "execution_count": 163,
   "metadata": {
    "collapsed": false,
    "deletable": true,
    "editable": true
   },
   "outputs": [
    {
     "name": "stdout",
     "output_type": "stream",
     "text": [
      "\n",
      "1856 reference set keywords found.\n"
     ]
    }
   ],
   "source": [
    "ahca.ReferenceKeywords()"
   ]
  },
  {
   "cell_type": "code",
   "execution_count": 164,
   "metadata": {
    "collapsed": false,
    "deletable": true,
    "editable": true
   },
   "outputs": [
    {
     "name": "stdout",
     "output_type": "stream",
     "text": [
      "\n",
      "Document Term Matrix: 10461 by 22351 with 82678 nonzero elements\n",
      "\n",
      "Time to get document-term matrix: 0.22 seconds\n",
      "\n",
      "Ref training size: 158; Search training size: 3294; Training size: 3452; Test size: 9983\n",
      "\n",
      "Time for Naive Bayes: 0.0 seconds\n",
      "Time for Logit: 0.02 seconds\n"
     ]
    }
   ],
   "source": [
    "ahca.ClassifyDocs(algorithms=['nbayes', 'logit'])"
   ]
  },
  {
   "cell_type": "code",
   "execution_count": 165,
   "metadata": {
    "collapsed": false,
    "deletable": true,
    "editable": true
   },
   "outputs": [
    {
     "name": "stdout",
     "output_type": "stream",
     "text": [
      "87 documents in target set\n",
      "9896 documents in non-target set\n"
     ]
    }
   ],
   "source": [
    "ahca.FindTargetSet()"
   ]
  },
  {
   "cell_type": "code",
   "execution_count": 166,
   "metadata": {
    "collapsed": false,
    "deletable": true,
    "editable": true,
    "scrolled": true
   },
   "outputs": [
    {
     "name": "stdout",
     "output_type": "stream",
     "text": [
      "52 target set keywords found\n",
      "1310 non-target set keywords found\n",
      "   Reference                  Target                        Non-target\n",
      "   ----------                 ----------                    ----------\n",
      "1. #ahca                      que                           trump\n",
      "2. ahca                       #fullrepeal                   via\n",
      "3. senat                      los                           #1\n",
      "4. bill                       expand                        eric\n",
      "5. amp                        con                           decis\n",
      "6. #fullrepeal                por                           deport\n",
      "7. #trumpcare                 medicaid                      develop\n",
      "8. medicaid                   aim                           dick\n",
      "9. peopl                      @senatemajldr                 disappoint\n",
      "10. call                      agenc                         econom\n",
      "11. health                    noth                          economi\n",
      "12. vote                      protect                       effort\n",
      "13. #ahcakills                saudi                         enemi\n",
      "14. gop                       @speakerryan                  equal\n",
      "15. done                      #trumptrain                   everybodi\n",
      "16. #haction                  tuesday                       coward\n",
      "17. #dowhatyoupromised        michigan                      fantast\n",
      "18. recess                    field                         fill\n",
      "19. american                  led                           financi\n",
      "20. care                      present                       fish\n",
      "21. obamacar                  journalist                    footbal\n",
      "22. repeal                    #winning                      forgot\n",
      "23. tell                      jone                          general\n",
      "24. tax                       letter                        greatest\n",
      "25. pass                      agent                         hanniti\n",
      "26. put                       #finsburypark                 damag\n",
      "27. #healthcarebill           relat                         congratul\n",
      "28. get                       patriot                       corpor\n",
      "29. @gop                      market                        impact\n",
      "30. like                      bit                           appear\n",
      "31. let                       facebook                      argu\n",
      "32. state                     son                           attempt\n",
      "33. want                      #holdthefloor                 bank\n",
      "34. patient                   least                         basebal\n",
      "35. trump                     dad                           bear\n",
      "36. #holdthefloor             three                         behavior\n",
      "37. first                     jare                          bigger\n",
      "38. reform                    deep                          blow\n",
      "39. take                      repeal                        born\n",
      "40. would                     replac                        bother\n",
      "41. #votenoahca               water                         brain\n",
      "42. hous                      updat                         bruh\n",
      "43. empow                     fbi                           bullshit\n",
      "44. healthcar                 record                        cant\n",
      "45. cut                       obamacar                      cap\n",
      "46. hear                      done                          capit\n",
      "47. via                       find                          cheer\n",
      "48. know                      kill                          color\n",
      "49. republican                show                          comfort\n",
      "50. version                   tri                           complain\n",
      "51. #noahca                   support                       hunt\n",
      "52. whi                       @youtube                      inde\n",
      "53. #aca                                                    anybodi\n",
      "54. onli                                                    influenc\n",
      "55. read                                                    punish\n",
      "56. rich                                                    radic\n",
      "57. thread                                                  reach\n",
      "58. even                                                    reagan\n",
      "59. #protectourcare                                         receiv\n",
      "60. oppos                                                   recent\n",
      "61. @senatemajldr                                           repeat\n",
      "62. make                                                    rose\n",
      "63. #resist                                                 scene\n",
      "64. one                                                     senior\n",
      "65. @senategop                                              seri\n",
      "66. #medicaid                                               sheriff\n",
      "67. dem                                                     shout\n",
      "68. afford                                                  sir\n",
      "69. stop                                                    smith\n",
      "70. #maga                                                   straight\n",
      "71. must                                                    teen\n",
      "72. need                                                    till\n",
      "73. everi                                                   touch\n",
      "74. believ                                                  trickfree\n",
      "75. insur                                                   winner\n",
      "76. mean                                                    profit\n",
      "77. plan                                                    predict\n",
      "78. pleas                                                   pop\n",
      "79. sign                                                    luck\n",
      "80. public                                                  instagram\n",
      "81. #copolitics                                             intellig\n",
      "82. @sencorygardner                                         invit\n",
      "83. see                                                     kept\n",
      "84. @potus                                                  #addawomanimproveasong\n",
      "85. die                                                     killer\n",
      "86. bad                                                     larg\n",
      "87. aca                                                     lee\n",
      "88. becaus                                                  loretta\n",
      "89. #theresistance                                          maga\n",
      "90. mcconnel                                                plot\n",
      "91. break                                                   match\n",
      "92. work                                                    model\n",
      "93. petit                                                   nasti\n",
      "94. right                                                   network\n",
      "95. million                                                 nut\n",
      "96. kill                                                    object\n",
      "97. won                                                     offend\n",
      "98. today                                                   panel\n",
      "99. secret                                                  planet\n",
      "100. support                                                apolog\n"
     ]
    }
   ],
   "source": [
    "ahca.FindKeywords()\n",
    "ahca.PrintKeywords()"
   ]
  },
  {
   "cell_type": "markdown",
   "metadata": {
    "deletable": true,
    "editable": true
   },
   "source": [
    "While some of the top terms in T appear to be noise we can see that trumpcare and healthcare bill appear high. We can thus use these to redefine the reference set."
   ]
  },
  {
   "cell_type": "code",
   "execution_count": 167,
   "metadata": {
    "collapsed": true,
    "deletable": true,
    "editable": true
   },
   "outputs": [],
   "source": [
    "kw=['healthcarebill','trumpcare','medicaid',' ACA ', \n",
    "       'ahcakills', 'fullrepeal','ahca']"
   ]
  },
  {
   "cell_type": "code",
   "execution_count": 169,
   "metadata": {
    "collapsed": true,
    "deletable": true,
    "editable": true
   },
   "outputs": [],
   "source": [
    "T = [x for x in list(S_.text) if any(i in x for i in kw) ]"
   ]
  },
  {
   "cell_type": "code",
   "execution_count": 170,
   "metadata": {
    "collapsed": false,
    "deletable": true,
    "editable": true
   },
   "outputs": [
    {
     "data": {
      "text/plain": [
       "11"
      ]
     },
     "execution_count": 170,
     "metadata": {},
     "output_type": "execute_result"
    }
   ],
   "source": [
    "len(T)"
   ]
  },
  {
   "cell_type": "code",
   "execution_count": 171,
   "metadata": {
    "collapsed": false,
    "deletable": true,
    "editable": true
   },
   "outputs": [
    {
     "data": {
      "text/plain": [
       "[\"Tell them you don't support their death bill. Don't cut medicaid, Medicare. Go back to the drawing board. This bill… https://t.co/VYdF4CG7Uv\",\n",
       " \"Funny, after all the year of swearing ACA wasn't about a single-payer system, they all openly admit it now. ACA WAS… https://t.co/7riXvO0beo\",\n",
       " 'FROM THE PEOPLE WHO BROUGHT YOU, \"NO CHILD LEFT BEHIND,\" BRINGS YOU, #trumpcare https://t.co/aKhS4mLTii',\n",
       " 'Cowardly Senate Republicans Running Away When Asked About Health Care Bill https://t.co/iFElTfWEUX #healthcarebill',\n",
       " \"Destroyed it for us that's for sure. Can't get shit now with ACA in place w/out paying through the nose and opening… https://t.co/vprT2OsFGw\",\n",
       " 'Fuck the Turtle!! \\n#Resist #trumpcare',\n",
       " 'Your health care &lt; their tax breaks. This is all you need to remember next November. #healthcarebill https://t.co/inZmuGgcVk',\n",
       " '(Mitch and Ryan Got Theirs! Screw YOU!!!!!) Mitch McConnell, Healthcare, and the ACA https://t.co/KiC5vCyoIY',\n",
       " \"don't listen to anything America First Policies says, they are GOP supporters who support a law that will harm the poor &amp; old on medicaid\",\n",
       " 'The terror-able new healthcarebill only removes 2of12 Obama mandates.\\nStill not free market where we could get really really cheap insurance',\n",
       " \"Cruel GOP would repeal taxes that pay for ACA &amp; Medicaid. Wants huge tax cuts for mega-rich, who don't need more $$. https://t.co/SUErOaBOHW\"]"
      ]
     },
     "execution_count": 171,
     "metadata": {},
     "output_type": "execute_result"
    }
   ],
   "source": [
    "T"
   ]
  },
  {
   "cell_type": "code",
   "execution_count": 172,
   "metadata": {
    "collapsed": true,
    "deletable": true,
    "editable": true
   },
   "outputs": [],
   "source": [
    "R=[]\n",
    "for t in kw:\n",
    "    Q_rt=re.compile(r''+t, re.IGNORECASE)\n",
    "    relevant = [x for x in texts if Q_rt.search(x) is not None]\n",
    "    R.extend(relevant)\n",
    "R=list(set(R))"
   ]
  },
  {
   "cell_type": "code",
   "execution_count": 173,
   "metadata": {
    "collapsed": false,
    "deletable": true,
    "editable": true
   },
   "outputs": [
    {
     "data": {
      "text/plain": [
       "1797"
      ]
     },
     "execution_count": 173,
     "metadata": {},
     "output_type": "execute_result"
    }
   ],
   "source": [
    "len(R)"
   ]
  },
  {
   "cell_type": "code",
   "execution_count": 174,
   "metadata": {
    "collapsed": true,
    "deletable": true,
    "editable": true
   },
   "outputs": [],
   "source": [
    "S = [x for x in texts if x not in R]"
   ]
  },
  {
   "cell_type": "code",
   "execution_count": 175,
   "metadata": {
    "collapsed": false,
    "deletable": true,
    "editable": true
   },
   "outputs": [
    {
     "data": {
      "text/plain": [
       "104801"
      ]
     },
     "execution_count": 175,
     "metadata": {},
     "output_type": "execute_result"
    }
   ],
   "source": [
    "len(S)"
   ]
  },
  {
   "cell_type": "code",
   "execution_count": 176,
   "metadata": {
    "collapsed": true,
    "deletable": true,
    "editable": true
   },
   "outputs": [],
   "source": [
    "R_=pd.DataFrame(R)\n",
    "R_.columns=['text'] \n",
    "R_['id']=list(R_.index.asi8)\n",
    "S_=pd.DataFrame(S)\n",
    "S_.columns=['text']\n",
    "S_['id']=list(S_.index.asi8)\n",
    "S_=S_.sample(10000)\n",
    "R_.to_csv('R_2.csv')\n",
    "S_.to_csv('S_2.csv')"
   ]
  },
  {
   "cell_type": "markdown",
   "metadata": {
    "deletable": true,
    "editable": true
   },
   "source": [
    "## Now that the new sets have been defined we can re-run the algorithm."
   ]
  },
  {
   "cell_type": "code",
   "execution_count": 177,
   "metadata": {
    "collapsed": false,
    "deletable": true,
    "editable": true
   },
   "outputs": [
    {
     "name": "stdout",
     "output_type": "stream",
     "text": [
      "Keyword object initialized.\n",
      "Loaded reference set of size 1797 in 0.02 seconds.\n",
      "Loaded search set of size 9975 in 0.06 seconds.\n",
      "Time to process corpus: 3.21 seconds\n"
     ]
    }
   ],
   "source": [
    "ahca = keywords.Keywords()\n",
    "ahca.ReferenceSet(data='R_2.csv', text_colname='text', id_colname='id')\n",
    "ahca.SearchSet(data='S_2.csv', text_colname='text', id_colname='id')\n",
    "ahca.ProcessData(remove_wordlist=[], keep_twitter_symbols=True)"
   ]
  },
  {
   "cell_type": "code",
   "execution_count": 178,
   "metadata": {
    "collapsed": false,
    "deletable": true,
    "editable": true
   },
   "outputs": [
    {
     "name": "stdout",
     "output_type": "stream",
     "text": [
      "\n",
      "4506 reference set keywords found.\n",
      "\n",
      "Document Term Matrix: 11772 by 23767 with 95381 nonzero elements\n",
      "\n",
      "Time to get document-term matrix: 0.15 seconds\n",
      "\n",
      "Ref training size: 593; Search training size: 3292; Training size: 3885; Test size: 9975\n",
      "\n",
      "Time for Naive Bayes: 0.0 seconds\n",
      "Time for Logit: 0.01 seconds\n",
      "220 documents in target set\n",
      "9755 documents in non-target set\n",
      "203 target set keywords found\n",
      "1120 non-target set keywords found\n",
      "   Reference                  Target                        Non-target\n",
      "   ----------                 ----------                    ----------\n",
      "1. medicaid                   senat                         get\n",
      "2. senat                      bill                          say\n",
      "3. #ahca                      health                        need\n",
      "4. #healthcarebill            petit                         louisemensch\n",
      "5. #trumpcare                 care                          like\n",
      "6. trumpcar                   sign                          trump\n",
      "7. health                     tax                           day\n",
      "8. bill                       repeal                        start\n",
      "9. care                       healthcar                     onli\n",
      "10. amp                       rich                          look\n",
      "11. vote                      cut                           work\n",
      "12. american                  republican                    love\n",
      "13. cut                       parenthood                    becaus\n",
      "14. ahca                      que                           thank\n",
      "15. take                      obamacar                      way\n",
      "16. gop                       gop                           time\n",
      "17. hous                      mcconnel                      thing\n",
      "18. make                      #news                         whi\n",
      "19. away                      #saveaca                      one\n",
      "20. #resisttrumpcare          #resistance                   video\n",
      "21. #fullrepeal               defend                        listen\n",
      "22. peopl                     #hellervoteno                 presid\n",
      "23. mistak                    dollar                        know\n",
      "24. aca                       son                           got\n",
      "25. call                      plan                          white\n",
      "26. republican                coverag                       watch\n",
      "27. tax                       draft                         man\n",
      "28. obamacar                  million                       realli\n",
      "29. repeal                    pass                          fuck\n",
      "30. via                       vote                          new\n",
      "31. get                       #holdthefloor                 today\n",
      "32. trump                     propos                        great\n",
      "33. healthcar                 island                        still\n",
      "34. would                     oppos                         bibl\n",
      "35. support                   #gop                          attorney\n",
      "36. like                      massiv                        experi\n",
      "37. #theresistance            con                           pre\n",
      "38. #notrumpcare              debat                         town\n",
      "39. want                      ryan                          journal\n",
      "40. tell                      #feedly                       assum\n",
      "41. insur                     #hellervoteyes                slow\n",
      "42. know                      #trumpsamerica                shock\n",
      "43. million                   provid                        ken\n",
      "44. state                     support                       titl\n",
      "45. pass                      paul                          knick\n",
      "46. mean                      hide                          arm\n",
      "47. @gop                      doctor                        arab\n",
      "48. funder                    consum                        soro\n",
      "49. amend                     releas                        pig\n",
      "50. let                       @msnbc                        awar\n",
      "51. disabl                    loser                         traffic\n",
      "52. need                      key                           shake\n",
      "53. plan                      poor                          cbs\n",
      "54. #medicaid                 togeth                        gas\n",
      "55. whi                       #theresistance                boycott\n",
      "56. one                       #resist                       road\n",
      "57. #resist                   reform                        scene\n",
      "58. say                       insid                         screw\n",
      "59. filibust                  congress                      unfortun\n",
      "60. stop                      univers                       hanniti\n",
      "61. move                      away                          bird\n",
      "62. @senategop                write                         bigotri\n",
      "63. pleas                     band                          fed\n",
      "64. expand                    abov                          seek\n",
      "65. could                     particip                      rape\n",
      "66. onli                      edit                          jack\n",
      "67. poor                      leadership                    vacat\n",
      "68. kill                      apart                         hollywood\n",
      "69. today                     addict                        honor\n",
      "70. live                      four                          fast\n",
      "71. rich                      agenc                         husband\n",
      "72. noth                      debt                          faith\n",
      "73. @senatemajldr             strategi                      illinoi\n",
      "74. work                      dure                          intellig\n",
      "75. put                       weekend                       interview\n",
      "76. mcconnel                  choos                         israel\n",
      "77. break                     #inners                       virginia\n",
      "78. democrat                  affect                        appear\n",
      "79. hear                      centuri                       physic\n",
      "80. #haction                  especi                        anyway\n",
      "81. give                      alon                          minneapoli\n",
      "82. must                      qualiti                       congrat\n",
      "83. dem                       aka                           adult\n",
      "84. done                      form                          lynch\n",
      "85. even                      sever                         dick\n",
      "86. ahead                     enter                         accus\n",
      "87. pay                       tear                          desper\n",
      "88. recess                    discuss                       depart\n",
      "89. die                       process                       @midnight\n",
      "90. #ahcakills                appar                         @mailonline\n",
      "91. right                     held                          ted\n",
      "92. coverag                   benefit                       counsel\n",
      "93. #dowhatyoupromised        call                          taxpay\n",
      "94. oppos                     truli                         daughter\n",
      "95. lie                       pride                         window\n",
      "96. patient                   simpl                         #usa\n",
      "97. @senatedems               refus                         wrote\n",
      "98. new                       host                          minor\n",
      "99. death                     action                        #syria\n",
      "100. @realdonaldtrump         bar                           mistak\n"
     ]
    }
   ],
   "source": [
    "ahca.ReferenceKeywords()\n",
    "ahca.ClassifyDocs(algorithms=['nbayes', 'logit'])\n",
    "ahca.FindTargetSet()\n",
    "ahca.FindKeywords()\n",
    "ahca.PrintKeywords()"
   ]
  },
  {
   "cell_type": "markdown",
   "metadata": {
    "deletable": true,
    "editable": true
   },
   "source": [
    "The top discriminating words now appear to be much more closely related to the topic of interest. A new query set $Q_RT$ could now be incorporated including keywords from R and T."
   ]
  },
  {
   "cell_type": "code",
   "execution_count": null,
   "metadata": {
    "collapsed": true,
    "deletable": true,
    "editable": true
   },
   "outputs": [],
   "source": []
  }
 ],
 "metadata": {
  "kernelspec": {
   "display_name": "IPython (Python 3)",
   "language": "python",
   "name": "python3"
  },
  "language_info": {
   "codemirror_mode": {
    "name": "ipython",
    "version": 3
   },
   "file_extension": ".py",
   "mimetype": "text/x-python",
   "name": "python",
   "nbconvert_exporter": "python",
   "pygments_lexer": "ipython3",
   "version": "3.6.2"
  }
 },
 "nbformat": 4,
 "nbformat_minor": 2
}
