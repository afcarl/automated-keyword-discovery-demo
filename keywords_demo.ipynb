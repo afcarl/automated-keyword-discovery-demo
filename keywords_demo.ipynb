{
 "cells": [
  {
   "cell_type": "markdown",
   "metadata": {},
   "source": [
    "## Demo of King, Lam, and Roberts algorithm for finding sets of keywords.\n",
    "\n",
    "You can read the [paper](https://gking.harvard.edu/files/gking/files/ajps12291_final.pdf) and download their [code and replication data](https://dataverse.harvard.edu/dataset.xhtml?persistentId=doi:10.7910/DVN/FMJDCD).\n",
    "\n",
    "The code is stored in `keywords.py`. Some minor modifications have been made due to some out-of-date code.\n"
   ]
  },
  {
   "cell_type": "code",
   "execution_count": 110,
   "metadata": {},
   "outputs": [],
   "source": [
    "#Start by reading in some data\n",
    "import os\n",
    "import pandas as pd\n",
    "from sociallistening.io import S3TweetReader\n",
    "import dateutil\n",
    "\n",
    "start_datetime_str = \"2017-06-19\"\n",
    "end_datetime_str = \"2017-06-25\"\n",
    "\n",
    "start_dt = dateutil.parser.parse(\n",
    "    start_datetime_str, default=dateutil.parser.parse(\"00:00Z\"))\n",
    "\n",
    "end_dt = dateutil.parser.parse(\n",
    "    end_datetime_str, default=dateutil.parser.parse(\"00:00Z\"))\n",
    "\n",
    "local=True\n",
    "gnip_tag='politics_sample'\n",
    "temp_dir='tweets/'+gnip_tag\n",
    "os.makedirs(temp_dir, exist_ok=True)"
   ]
  },
  {
   "cell_type": "code",
   "execution_count": null,
   "metadata": {},
   "outputs": [],
   "source": [
    "reader = S3TweetReader(temp_dir=temp_dir, \n",
    "                       start_dt=start_dt,\n",
    "                       end_dt=end_dt, \n",
    "                       local=False, \n",
    "                       remove_replies=True,\n",
    "                      gnip_tag=gnip_tag)"
   ]
  },
  {
   "cell_type": "code",
   "execution_count": 22,
   "metadata": {},
   "outputs": [],
   "source": [
    "tweets = [x for x in reader.read_tweets()]"
   ]
  },
  {
   "cell_type": "code",
   "execution_count": null,
   "metadata": {
    "collapsed": true
   },
   "outputs": [],
   "source": []
  },
  {
   "cell_type": "markdown",
   "metadata": {},
   "source": [
    "### Extract the texts from the tweets, we can ignore the rest here"
   ]
  },
  {
   "cell_type": "code",
   "execution_count": 23,
   "metadata": {},
   "outputs": [],
   "source": [
    "texts = [x.text for x in tweets]"
   ]
  },
  {
   "cell_type": "code",
   "execution_count": 139,
   "metadata": {},
   "outputs": [
    {
     "data": {
      "text/plain": [
       "106660"
      ]
     },
     "execution_count": 139,
     "metadata": {},
     "output_type": "execute_result"
    }
   ],
   "source": [
    "len(texts)"
   ]
  },
  {
   "cell_type": "markdown",
   "metadata": {},
   "source": [
    "## Defining the reference set $R$ and the search set $S$"
   ]
  },
  {
   "cell_type": "markdown",
   "metadata": {},
   "source": [
    "## Specifying initial query, $Q_R$\n",
    "\n",
    "I am using the keyword \"AHCA\", case insensitive and potentially with hashtags."
   ]
  },
  {
   "cell_type": "code",
   "execution_count": 1,
   "metadata": {},
   "outputs": [],
   "source": [
    "import re\n",
    "Q_r=re.compile(r\"(#?)AHCA\", re.IGNORECASE)"
   ]
  },
  {
   "cell_type": "code",
   "execution_count": 99,
   "metadata": {},
   "outputs": [],
   "source": [
    "R = [x for x in texts if Q_r.search(x) is not None]"
   ]
  },
  {
   "cell_type": "code",
   "execution_count": 100,
   "metadata": {},
   "outputs": [],
   "source": [
    "S = [x for x in texts if x not in R]"
   ]
  },
  {
   "cell_type": "code",
   "execution_count": 140,
   "metadata": {},
   "outputs": [
    {
     "name": "stdout",
     "output_type": "stream",
     "text": [
      "1797\n",
      "104801\n"
     ]
    }
   ],
   "source": [
    "print(len(R))\n",
    "print(len(S))"
   ]
  },
  {
   "cell_type": "markdown",
   "metadata": {},
   "source": [
    "## Now we can specify a model to find new keywords"
   ]
  },
  {
   "cell_type": "code",
   "execution_count": 2,
   "metadata": {},
   "outputs": [
    {
     "name": "stderr",
     "output_type": "stream",
     "text": [
      "/Users/tdavidson/miniconda3/lib/python3.6/site-packages/sklearn/lda.py:6: DeprecationWarning: lda.LDA has been moved to discriminant_analysis.LinearDiscriminantAnalysis in 0.17 and will be removed in 0.19\n",
      "  \"in 0.17 and will be removed in 0.19\", DeprecationWarning)\n"
     ]
    }
   ],
   "source": [
    "import keywords"
   ]
  },
  {
   "cell_type": "markdown",
   "metadata": {},
   "source": [
    "Existing codebase reads in the data from CSV so easiest to dump our data into a CSV and then read it back in (rather than modify the code)."
   ]
  },
  {
   "cell_type": "code",
   "execution_count": 127,
   "metadata": {},
   "outputs": [],
   "source": [
    "R_=pd.DataFrame(R)\n",
    "R_.columns=['text'] \n",
    "R_['id']=list(R_.index.asi8)\n",
    "S_=pd.DataFrame(S)\n",
    "S_.columns=['text']\n",
    "S_['id']=list(S_.index.asi8)\n",
    "R_.to_csv('R.csv')\n",
    "S_.to_csv('S.csv')"
   ]
  },
  {
   "cell_type": "code",
   "execution_count": 128,
   "metadata": {},
   "outputs": [
    {
     "data": {
      "text/html": [
       "<div>\n",
       "<style>\n",
       "    .dataframe thead tr:only-child th {\n",
       "        text-align: right;\n",
       "    }\n",
       "\n",
       "    .dataframe thead th {\n",
       "        text-align: left;\n",
       "    }\n",
       "\n",
       "    .dataframe tbody tr th {\n",
       "        vertical-align: top;\n",
       "    }\n",
       "</style>\n",
       "<table border=\"1\" class=\"dataframe\">\n",
       "  <thead>\n",
       "    <tr style=\"text-align: right;\">\n",
       "      <th></th>\n",
       "      <th>text</th>\n",
       "      <th>id</th>\n",
       "    </tr>\n",
       "  </thead>\n",
       "  <tbody>\n",
       "    <tr>\n",
       "      <th>0</th>\n",
       "      <td>@grandmapurse @WahcaMia @MeGminor All crazines...</td>\n",
       "      <td>0</td>\n",
       "    </tr>\n",
       "    <tr>\n",
       "      <th>1</th>\n",
       "      <td>@grandmapurse @WahcaMia @MeGminor Nice try Mad...</td>\n",
       "      <td>1</td>\n",
       "    </tr>\n",
       "    <tr>\n",
       "      <th>2</th>\n",
       "      <td>@scolderscholar @conradhackett If you don't li...</td>\n",
       "      <td>2</td>\n",
       "    </tr>\n",
       "    <tr>\n",
       "      <th>3</th>\n",
       "      <td>Opinion | Trump predictably abandons the AHCA ...</td>\n",
       "      <td>3</td>\n",
       "    </tr>\n",
       "    <tr>\n",
       "      <th>4</th>\n",
       "      <td>@PattyMurray @SenatorCantwell #votearama strat...</td>\n",
       "      <td>4</td>\n",
       "    </tr>\n",
       "  </tbody>\n",
       "</table>\n",
       "</div>"
      ],
      "text/plain": [
       "                                                text  id\n",
       "0  @grandmapurse @WahcaMia @MeGminor All crazines...   0\n",
       "1  @grandmapurse @WahcaMia @MeGminor Nice try Mad...   1\n",
       "2  @scolderscholar @conradhackett If you don't li...   2\n",
       "3  Opinion | Trump predictably abandons the AHCA ...   3\n",
       "4  @PattyMurray @SenatorCantwell #votearama strat...   4"
      ]
     },
     "execution_count": 128,
     "metadata": {},
     "output_type": "execute_result"
    }
   ],
   "source": [
    "R_.head()"
   ]
  },
  {
   "cell_type": "code",
   "execution_count": 129,
   "metadata": {},
   "outputs": [
    {
     "data": {
      "text/html": [
       "<div>\n",
       "<style>\n",
       "    .dataframe thead tr:only-child th {\n",
       "        text-align: right;\n",
       "    }\n",
       "\n",
       "    .dataframe thead th {\n",
       "        text-align: left;\n",
       "    }\n",
       "\n",
       "    .dataframe tbody tr th {\n",
       "        vertical-align: top;\n",
       "    }\n",
       "</style>\n",
       "<table border=\"1\" class=\"dataframe\">\n",
       "  <thead>\n",
       "    <tr style=\"text-align: right;\">\n",
       "      <th></th>\n",
       "      <th>text</th>\n",
       "      <th>id</th>\n",
       "    </tr>\n",
       "  </thead>\n",
       "  <tbody>\n",
       "    <tr>\n",
       "      <th>0</th>\n",
       "      <td>#JonesvKelly\\n\\nMSM is dead!\\n\\nHalelujah!!</td>\n",
       "      <td>0</td>\n",
       "    </tr>\n",
       "    <tr>\n",
       "      <th>1</th>\n",
       "      <td>@ArthurSchwartz @PreetBharara Worst troll atte...</td>\n",
       "      <td>1</td>\n",
       "    </tr>\n",
       "    <tr>\n",
       "      <th>2</th>\n",
       "      <td>@drose come back to chicago please!</td>\n",
       "      <td>2</td>\n",
       "    </tr>\n",
       "    <tr>\n",
       "      <th>3</th>\n",
       "      <td>My little brother is acting like a total greml...</td>\n",
       "      <td>3</td>\n",
       "    </tr>\n",
       "    <tr>\n",
       "      <th>4</th>\n",
       "      <td>Proverbs 21:2\\nAll a man's ways seem right to ...</td>\n",
       "      <td>4</td>\n",
       "    </tr>\n",
       "  </tbody>\n",
       "</table>\n",
       "</div>"
      ],
      "text/plain": [
       "                                                text  id\n",
       "0        #JonesvKelly\\n\\nMSM is dead!\\n\\nHalelujah!!   0\n",
       "1  @ArthurSchwartz @PreetBharara Worst troll atte...   1\n",
       "2                @drose come back to chicago please!   2\n",
       "3  My little brother is acting like a total greml...   3\n",
       "4  Proverbs 21:2\\nAll a man's ways seem right to ...   4"
      ]
     },
     "execution_count": 129,
     "metadata": {},
     "output_type": "execute_result"
    }
   ],
   "source": [
    "S_.head()"
   ]
  },
  {
   "cell_type": "code",
   "execution_count": 11,
   "metadata": {},
   "outputs": [
    {
     "name": "stderr",
     "output_type": "stream",
     "text": [
      "/Users/tdavidson/miniconda3/lib/python3.6/site-packages/ipykernel_launcher.py:1: DeprecationWarning: 'U' mode is deprecated\n",
      "  \"\"\"Entry point for launching an IPython kernel.\n"
     ]
    }
   ],
   "source": [
    "S=pd.read_csv(open('S.csv','rU'))"
   ]
  },
  {
   "cell_type": "code",
   "execution_count": 17,
   "metadata": {},
   "outputs": [],
   "source": [
    "S=S.sample(10000)"
   ]
  },
  {
   "cell_type": "code",
   "execution_count": 18,
   "metadata": {
    "collapsed": true
   },
   "outputs": [],
   "source": [
    "S.to_csv('S_.csv')"
   ]
  },
  {
   "cell_type": "code",
   "execution_count": null,
   "metadata": {
    "collapsed": true
   },
   "outputs": [],
   "source": []
  },
  {
   "cell_type": "code",
   "execution_count": 153,
   "metadata": {},
   "outputs": [
    {
     "data": {
      "text/plain": [
       "<module 'keywords' from '/Users/tdavidson/automated-keyword-discovery/keywords.py'>"
      ]
     },
     "execution_count": 153,
     "metadata": {},
     "output_type": "execute_result"
    }
   ],
   "source": [
    "import importlib\n",
    "importlib.reload(keywords)"
   ]
  },
  {
   "cell_type": "code",
   "execution_count": 19,
   "metadata": {},
   "outputs": [
    {
     "name": "stdout",
     "output_type": "stream",
     "text": [
      "Keyword object initialized.\n",
      "Loaded reference set of size 802 in 0.01 seconds.\n",
      "Loaded search set of size 9997 in 0.07 seconds.\n",
      "Time to process corpus: 2.91 seconds\n"
     ]
    }
   ],
   "source": [
    "ahca = keywords.Keywords()\n",
    "ahca.ReferenceSet(data='R.csv', text_colname='text', id_colname='id')\n",
    "ahca.SearchSet(data='S_.csv', text_colname='text', id_colname='id')\n",
    "ahca.ProcessData(remove_wordlist=[], keep_twitter_symbols=True)"
   ]
  },
  {
   "cell_type": "code",
   "execution_count": 20,
   "metadata": {},
   "outputs": [
    {
     "name": "stdout",
     "output_type": "stream",
     "text": [
      "\n",
      "2717 reference set keywords found.\n"
     ]
    }
   ],
   "source": [
    "ahca.ReferenceKeywords()"
   ]
  },
  {
   "cell_type": "code",
   "execution_count": 21,
   "metadata": {},
   "outputs": [
    {
     "name": "stdout",
     "output_type": "stream",
     "text": [
      "\n",
      "Document Term Matrix: 10799 by 25036 with 85584 nonzero elements\n",
      "\n",
      "Time to get document-term matrix: 0.18 seconds\n",
      "\n",
      "Ref training size: 265; Search training size: 3299; Training size: 3564; Test size: 9997\n",
      "\n",
      "Time for Naive Bayes: 0.0 seconds\n",
      "Time for Logit: 0.01 seconds\n"
     ]
    }
   ],
   "source": [
    "ahca.ClassifyDocs(algorithms=['nbayes', 'logit'])"
   ]
  },
  {
   "cell_type": "code",
   "execution_count": 22,
   "metadata": {},
   "outputs": [
    {
     "name": "stdout",
     "output_type": "stream",
     "text": [
      "162 documents in target set\n",
      "9835 documents in non-target set\n"
     ]
    }
   ],
   "source": [
    "ahca.FindTargetSet()"
   ]
  },
  {
   "cell_type": "code",
   "execution_count": 23,
   "metadata": {
    "scrolled": true
   },
   "outputs": [
    {
     "name": "stdout",
     "output_type": "stream",
     "text": [
      "72 target set keywords found\n",
      "1155 non-target set keywords found\n",
      "   Reference                  Target                        Non-target\n",
      "   ----------                 ----------                    ----------\n",
      "1. #ahca                      que                           @realdonaldtrump\n",
      "2. ahca                       medicaid                      like\n",
      "3. senat                      throw                         get\n",
      "4. bill                       @senwarren                    amp\n",
      "5. amp                        #trumpcare                    peopl\n",
      "6. vote                       california                    one\n",
      "7. know                       aca                           whi\n",
      "8. peopl                      #healthcarebill               would\n",
      "9. #trumpcare                 easili                        make\n",
      "10. #ahcakills                file                          good\n",
      "11. #fullrepeal               @leahr77                      think\n",
      "12. health                    huh                           want\n",
      "13. pass                      #theresistance                right\n",
      "14. medicaid                  obvious                       via\n",
      "15. gop                       student                       time\n",
      "16. #votenoahca               pro                           know\n",
      "17. call                      canada                        @potus\n",
      "18. tax                       feder                         forward\n",
      "19. get                       appear                        @tuckercarlson\n",
      "20. care                      longer                        unless\n",
      "21. #noahca                   mike                          deplor\n",
      "22. won                       articl                        solid\n",
      "23. american                  appreci                       legisl\n",
      "24. done                      hypocrit                      fli\n",
      "25. doe                       lesson                        floor\n",
      "26. obamacar                  michael                       @tuffelhund2003\n",
      "27. tell                      drug                          leftist\n",
      "28. repeal                    israel                        patriot\n",
      "29. @senatemajldr             truli                         kept\n",
      "30. recess                    noth                          @tomperez\n",
      "31. #dowhatyoupromised        owner                         street\n",
      "32. #haction                  fine                          lift\n",
      "33. like                      payer                         solar\n",
      "34. healthcar                 king                          @the_dixon_cider\n",
      "35. want                      joe                           paper\n",
      "36. cut                       opposit                       begin\n",
      "37. @realdonaldtrump          unit                          four\n",
      "38. right                     draft                         trigger\n",
      "39. feel                      @ivankatrump                  across\n",
      "40. full                      mother                        sometim\n",
      "41. effect                    #trump                        tough\n",
      "42. trump                     repres                        stream\n",
      "43. put                       return                        earn\n",
      "44. @gop                      accept                        east\n",
      "45. throw                     peac                          swear\n",
      "46. pleas                     @chrislhayes                  angri\n",
      "47. even                      crimin                        nope\n",
      "48. state                     cost                          encourag\n",
      "49. #healthcarebill           defend                        energi\n",
      "50. would                     @senategop                    normal\n",
      "51. bus                       paid                          tear\n",
      "52. leadership                forc                          match\n",
      "53. #holdthefloor             funni                         exampl\n",
      "54. whi                       block                         test\n",
      "55. let                       pictur                        exclus\n",
      "56. believ                    nation                        spin\n",
      "57. felt                      racist                        extrem\n",
      "58. make                      cover                         luck\n",
      "59. take                      send                          three\n",
      "60. aca                       singl                         option\n",
      "61. first                     haven                         organ\n",
      "62. hear                      break                         link\n",
      "63. hous                      @jackposobiec                 dirti\n",
      "64. onli                      @gop                          toler\n",
      "65. patient                   wow                           pack\n",
      "66. @sentoddyoung             cut                           lil\n",
      "67. #showusthebill            senat                         custom\n",
      "68. secret                    famili                        kick\n",
      "69. @senategop                friend                        sister\n",
      "70. republican                done                          commit\n",
      "71. read                      die                           rain\n",
      "72. say                       bill                          bye\n",
      "73. @senatorcollins                                         climat\n",
      "74. @sendeanheller                                          imo\n",
      "75. thing                                                   gain\n",
      "76. stop                                                    ill\n",
      "77. plan                                                    hahaha\n",
      "78. time                                                    @chelseaclinton\n",
      "79. #aca                                                    hair\n",
      "80. need                                                    @cbsnews\n",
      "81. one                                                     scalis\n",
      "82. work                                                    research\n",
      "83. insur                                                   ice\n",
      "84. dem                                                     @anncoulter\n",
      "85. via                                                     caught\n",
      "86. reform                                                  honor\n",
      "87. see                                                     @20committee\n",
      "88. becaus                                                  hollywood\n",
      "89. million                                                 #voteyourossoff\n",
      "90. empow                                                   #tcot\n",
      "91. #resist                                                 holi\n",
      "92. public                                                  hat\n",
      "93. die                                                     richard\n",
      "94. version                                                 #lifeofrefugees\n",
      "95. everi                                                   hill\n",
      "96. afford                                                  weren\n",
      "97. rich                                                    @corrynmb\n",
      "98. polit                                                   earli\n",
      "99. think                                                   @lauraloomer\n",
      "100. mean                                                   @mattyglesias\n"
     ]
    }
   ],
   "source": [
    "ahca.FindKeywords()\n",
    "ahca.PrintKeywords()"
   ]
  },
  {
   "cell_type": "markdown",
   "metadata": {},
   "source": [
    "While some of the top terms in T appear to be noise we can see that trumpcare and healthcare bill appear high. We can thus use these to redefine the reference set."
   ]
  },
  {
   "cell_type": "code",
   "execution_count": 131,
   "metadata": {
    "collapsed": true
   },
   "outputs": [],
   "source": [
    "kw=['healthcarebill','trumpcare','medicaid',' ACA ', \n",
    "       'ahcakills', 'fullrepeal','votenoahca','noahca',\n",
    "      'ahca']"
   ]
  },
  {
   "cell_type": "code",
   "execution_count": 117,
   "metadata": {},
   "outputs": [],
   "source": [
    "T = [x for x in list(S.text) if any(i in x for i in kw) ]"
   ]
  },
  {
   "cell_type": "code",
   "execution_count": 118,
   "metadata": {},
   "outputs": [
    {
     "data": {
      "text/plain": [
       "14"
      ]
     },
     "execution_count": 118,
     "metadata": {},
     "output_type": "execute_result"
    }
   ],
   "source": [
    "len(T)"
   ]
  },
  {
   "cell_type": "code",
   "execution_count": 119,
   "metadata": {},
   "outputs": [
    {
     "data": {
      "text/plain": [
       "[\"@SenJohnBarrasso  U are a liar U say Obamacare every other word (code 2 base 'the black guy') IT'S ACA &amp; Republicans are gutting subsidies!\",\n",
       " '@foxnewspolitics ACA repeal on the fast track? How is that possible considering that only 13 senators have any idea what is in it?',\n",
       " '@PizzazicUrge @Corrynmb @realDonaldTrump @rjfbobb @ICEgov And that \"everyone\" would be covered by the ACA replacement.',\n",
       " \"@FoxNews @POTUS Well that's not covered under #trumpcare\",\n",
       " \"@realDonaldTrump There are rumors the new 'health bill' wants to take away medicaid from the sick &amp; old, needless t… https://t.co/IbLfIYkZFc\",\n",
       " \"@SherryTerm @mkhammer That's funny the ACA in California covered mammograms and my daughter's therapy for autism\",\n",
       " \"The #HealthcareBill is not a #healthcarebill; it's a tax cut for the wealthy that cuts health care for everyone else\",\n",
       " '@realDonaldTrump The best solution is to fix the ACA not get rid of it.',\n",
       " '@NBCPolitics Remember when we made concession after concession on ACA to build bipartisan support &amp; then Rs refused… https://t.co/4tASJYIH4g',\n",
       " '\"New\" healthcare bill does NOT REPEAL the ACA AND keeps ALL the subsidies to insurance companies. That\\'s NOT what you promised. More LIES!',\n",
       " \"@SarahBurris Well that's not covered under #trumpcare\",\n",
       " '@resnikoff @mmfa No different then when Nancy Pelosi said of the ACA -they needed to pass the bill in order to see… https://t.co/s8d7odqSUZ',\n",
       " \"@realDonaldTrump Why don't you get off Twitter?  You've been undermining ACA from the get go.  No concern for Ameri… https://t.co/OyvoFxJiMW\",\n",
       " \"@CaseyKinsey1 @senrobportman Well, I'll say that 23 million more people having access to health care gives the ACA s tiny edge.\"]"
      ]
     },
     "execution_count": 119,
     "metadata": {},
     "output_type": "execute_result"
    }
   ],
   "source": [
    "T"
   ]
  },
  {
   "cell_type": "code",
   "execution_count": null,
   "metadata": {
    "collapsed": true
   },
   "outputs": [],
   "source": []
  },
  {
   "cell_type": "code",
   "execution_count": 111,
   "metadata": {
    "collapsed": true
   },
   "outputs": [],
   "source": [
    "reader = S3TweetReader(temp_dir=temp_dir, \n",
    "                       start_dt=start_dt,\n",
    "                       end_dt=end_dt, \n",
    "                       local=True, \n",
    "                       remove_replies=True,\n",
    "                      gnip_tag=gnip_tag)"
   ]
  },
  {
   "cell_type": "code",
   "execution_count": 112,
   "metadata": {},
   "outputs": [],
   "source": [
    "tweets = [x for x in reader.read_tweets()]"
   ]
  },
  {
   "cell_type": "code",
   "execution_count": 113,
   "metadata": {},
   "outputs": [
    {
     "data": {
      "text/plain": [
       "106660"
      ]
     },
     "execution_count": 113,
     "metadata": {},
     "output_type": "execute_result"
    }
   ],
   "source": [
    "len(tweets)"
   ]
  },
  {
   "cell_type": "code",
   "execution_count": 121,
   "metadata": {},
   "outputs": [],
   "source": [
    "texts = [x.text for x in tweets]"
   ]
  },
  {
   "cell_type": "code",
   "execution_count": 132,
   "metadata": {},
   "outputs": [],
   "source": [
    "R=[]\n",
    "for t in kw:\n",
    "    Q_rt=re.compile(r''+t, re.IGNORECASE)\n",
    "    relevant = [x for x in texts if Q_rt.search(x) is not None]\n",
    "    R.extend(relevant)\n",
    "R=list(set(R))"
   ]
  },
  {
   "cell_type": "code",
   "execution_count": 133,
   "metadata": {},
   "outputs": [
    {
     "data": {
      "text/plain": [
       "1797"
      ]
     },
     "execution_count": 133,
     "metadata": {},
     "output_type": "execute_result"
    }
   ],
   "source": [
    "len(R)"
   ]
  },
  {
   "cell_type": "code",
   "execution_count": 134,
   "metadata": {
    "collapsed": true
   },
   "outputs": [],
   "source": [
    "S = [x for x in texts if x not in R]"
   ]
  },
  {
   "cell_type": "code",
   "execution_count": 135,
   "metadata": {},
   "outputs": [
    {
     "data": {
      "text/plain": [
       "104801"
      ]
     },
     "execution_count": 135,
     "metadata": {},
     "output_type": "execute_result"
    }
   ],
   "source": [
    "len(S)"
   ]
  },
  {
   "cell_type": "code",
   "execution_count": 136,
   "metadata": {
    "collapsed": true
   },
   "outputs": [],
   "source": [
    "R_=pd.DataFrame(R)\n",
    "R_.columns=['text'] \n",
    "R_['id']=list(R_.index.asi8)\n",
    "S_=pd.DataFrame(S)\n",
    "S_.columns=['text']\n",
    "S_['id']=list(S_.index.asi8)\n",
    "S_=S_.sample(10000)\n",
    "R_.to_csv('R_2.csv')\n",
    "S_.to_csv('S_2.csv')"
   ]
  },
  {
   "cell_type": "markdown",
   "metadata": {},
   "source": [
    "## Now that the new sets have been defined we can re-run the algorithm."
   ]
  },
  {
   "cell_type": "code",
   "execution_count": 137,
   "metadata": {},
   "outputs": [
    {
     "name": "stdout",
     "output_type": "stream",
     "text": [
      "Keyword object initialized.\n",
      "Loaded reference set of size 1797 in 0.02 seconds.\n",
      "Loaded search set of size 9989 in 0.09 seconds.\n",
      "Time to process corpus: 3.48 seconds\n"
     ]
    }
   ],
   "source": [
    "ahca = keywords.Keywords()\n",
    "ahca.ReferenceSet(data='R_2.csv', text_colname='text', id_colname='id')\n",
    "ahca.SearchSet(data='S_2.csv', text_colname='text', id_colname='id')\n",
    "ahca.ProcessData(remove_wordlist=[], keep_twitter_symbols=True)"
   ]
  },
  {
   "cell_type": "code",
   "execution_count": 138,
   "metadata": {},
   "outputs": [
    {
     "name": "stdout",
     "output_type": "stream",
     "text": [
      "\n",
      "4506 reference set keywords found.\n",
      "\n",
      "Document Term Matrix: 11786 by 24171 with 95119 nonzero elements\n",
      "\n",
      "Time to get document-term matrix: 0.16 seconds\n",
      "\n",
      "Ref training size: 593; Search training size: 3296; Training size: 3889; Test size: 9989\n",
      "\n",
      "Time for Naive Bayes: 0.0 seconds\n",
      "Time for Logit: 0.02 seconds\n",
      "245 documents in target set\n",
      "9744 documents in non-target set\n",
      "246 target set keywords found\n",
      "1081 non-target set keywords found\n",
      "   Reference                  Target                        Non-target\n",
      "   ----------                 ----------                    ----------\n",
      "1. medicaid                   health                        trump\n",
      "2. senat                      bill                          like\n",
      "3. #ahca                      senat                         get\n",
      "4. #healthcarebill            care                          know\n",
      "5. #trumpcare                 repeal                        louisemensch\n",
      "6. trumpcar                   tax                           good\n",
      "7. health                     cut                           one\n",
      "8. bill                       #resist                       live\n",
      "9. care                       disabl                        love\n",
      "10. amp                       gop                           new\n",
      "11. vote                      #showusthebill                @youtube\n",
      "12. american                  petit                         time\n",
      "13. cut                       obamacar                      right\n",
      "14. ahca                      #theresistance                look\n",
      "15. take                      #holdthefloor                 start\n",
      "16. gop                       que                           even\n",
      "17. hous                      insur                         video\n",
      "18. make                      protest                       onli\n",
      "19. away                      republican                    thing\n",
      "20. #resisttrumpcare          mcconnel                      thank\n",
      "21. #fullrepeal               @speakerryan                  year\n",
      "22. peopl                     #resistance                   much\n",
      "23. mistak                    oppos                         white\n",
      "24. aca                       rich                          news\n",
      "25. call                      secret                        listen\n",
      "26. republican                sign                          got\n",
      "27. tax                       pass                          presid\n",
      "28. obamacar                  retweet                       america\n",
      "29. repeal                    #hellervoteno                 man\n",
      "30. via                       mistak                        never\n",
      "31. get                       las                           keep\n",
      "32. trump                     birth                         win\n",
      "33. healthcar                 hide                          fuck\n",
      "34. would                     compani                       doe\n",
      "35. support                   process                       give\n",
      "36. like                      grand                         russia\n",
      "37. #theresistance            #trumpsamerica                think\n",
      "38. #notrumpcare              #morningjoe                   tweet\n",
      "39. want                      debat                         safeti\n",
      "40. tell                      mess                          tear\n",
      "41. insur                     medic                         beach\n",
      "42. know                      afford                        blog\n",
      "43. million                   detail                        taken\n",
      "44. state                     con                           logic\n",
      "45. pass                      lack                          tbh\n",
      "46. mean                      healthcar                     bag\n",
      "47. @gop                      disgust                       hashtag\n",
      "48. funder                    fix                           touch\n",
      "49. amend                     coward                        flag\n",
      "50. let                       massiv                        crew\n",
      "51. disabl                    mike                          crack\n",
      "52. need                      condit                        flip\n",
      "53. plan                      coverag                       san\n",
      "54. #medicaid                 mention                       crook\n",
      "55. whi                       fair                          five\n",
      "56. one                       replac                        lock\n",
      "57. #resist                   mine                          bar\n",
      "58. say                       main                          boyfriend\n",
      "59. filibust                  popular                       corlebra\n",
      "60. stop                      ken                           code\n",
      "61. move                      los                           cloth\n",
      "62. @senategop                pre                           closer\n",
      "63. pleas                     msnbc                         solid\n",
      "64. expand                    panel                         nba\n",
      "65. could                     patriot                       minor\n",
      "66. onli                      youtub                        stone\n",
      "67. poor                      servic                        mouth\n",
      "68. kill                      along                         gang\n",
      "69. today                     basic                         choos\n",
      "70. live                      begin                         steve\n",
      "71. rich                      shame                         golf\n",
      "72. noth                      away                          catch\n",
      "73. @senatemajldr             defend                        generat\n",
      "74. work                      folk                          cav\n",
      "75. put                       blame                         channel\n",
      "76. mcconnel                  return                        smile\n",
      "77. break                     statement                     coffe\n",
      "78. democrat                  moron                         cop\n",
      "79. hear                      fool                          bull\n",
      "80. #haction                  mother                        seek\n",
      "81. give                      lit                           syrian\n",
      "82. must                      promot                        border\n",
      "83. dem                       propaganda                    born\n",
      "84. done                      unless                        controversi\n",
      "85. even                      gender                        bout\n",
      "86. ahead                     crisi                         forgot\n",
      "87. pay                       #russia                       traitor\n",
      "88. recess                    written                       brand\n",
      "89. die                       johnson                       swamp\n",
      "90. #ahcakills                exist                         susan\n",
      "91. right                     act                           forward\n",
      "92. coverag                   cancer                        size\n",
      "93. #dowhatyoupromised        gain                          smell\n",
      "94. oppos                     harm                          govt\n",
      "95. lie                       approv                        train\n",
      "96. patient                   drag                          everyday\n",
      "97. @senatedems               form                          crowd\n",
      "98. new                       higher                        ahead\n",
      "99. death                     embarrass                     wed\n",
      "100. @realdonaldtrump         @nytimes                      dress\n"
     ]
    }
   ],
   "source": [
    "ahca.ReferenceKeywords()\n",
    "ahca.ClassifyDocs(algorithms=['nbayes', 'logit'])\n",
    "ahca.FindTargetSet()\n",
    "ahca.FindKeywords()\n",
    "ahca.PrintKeywords()"
   ]
  },
  {
   "cell_type": "code",
   "execution_count": null,
   "metadata": {
    "collapsed": true
   },
   "outputs": [],
   "source": []
  },
  {
   "cell_type": "code",
   "execution_count": null,
   "metadata": {
    "collapsed": true
   },
   "outputs": [],
   "source": []
  }
 ],
 "metadata": {
  "kernelspec": {
   "display_name": "Python 3",
   "language": "python",
   "name": "python3"
  },
  "language_info": {
   "codemirror_mode": {
    "name": "ipython",
    "version": 3
   },
   "file_extension": ".py",
   "mimetype": "text/x-python",
   "name": "python",
   "nbconvert_exporter": "python",
   "pygments_lexer": "ipython3",
   "version": "3.6.1"
  }
 },
 "nbformat": 4,
 "nbformat_minor": 2
}
